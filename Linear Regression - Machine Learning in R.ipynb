{
 "cells": [
  {
   "cell_type": "markdown",
   "metadata": {},
   "source": [
    "# Linear Regression in R (SLR & MLR) "
   ]
  },
  {
   "cell_type": "markdown",
   "metadata": {},
   "source": [
    "### Scenario <br>\n",
    "\n",
    "<p>\"Burger Slim\" network wants to launch a new kids meal. They want to predict how different meal combinations affect revenue in each of their 2000 branches via linear regression. </p>\n",
    "\n",
    "The features they chose for the modal are: <br>\n",
    "\n",
    "<img src=\"Burger_Slim.png\"> <br>\n",
    "\n",
    "Lets get to it!"
   ]
  },
  {
   "cell_type": "code",
   "execution_count": 1,
   "metadata": {
    "collapsed": false
   },
   "outputs": [
    {
     "data": {
      "text/html": [
       "<table>\n",
       "<thead><tr><th scope=col>price</th><th scope=col>size_beverage</th><th scope=col>salad</th><th scope=col>ice_cream</th><th scope=col>toy</th><th scope=col>revenue</th></tr></thead>\n",
       "<tbody>\n",
       "\t<tr><td>3.546357</td><td>0.6     </td><td>1       </td><td>0       </td><td>1       </td><td>34957.86</td></tr>\n",
       "\t<tr><td>4.179821</td><td>0.7     </td><td>0       </td><td>0       </td><td>1       </td><td>50046.82</td></tr>\n",
       "\t<tr><td>3.634045</td><td>0.6     </td><td>0       </td><td>0       </td><td>0       </td><td>41464.24</td></tr>\n",
       "\t<tr><td>4.166024</td><td>0.7     </td><td>1       </td><td>1       </td><td>0       </td><td>43034.24</td></tr>\n",
       "\t<tr><td>4.139435</td><td>0.7     </td><td>1       </td><td>0       </td><td>0       </td><td>34856.40</td></tr>\n",
       "\t<tr><td>3.648140</td><td>0.6     </td><td>0       </td><td>0       </td><td>0       </td><td>48116.88</td></tr>\n",
       "</tbody>\n",
       "</table>\n"
      ],
      "text/latex": [
       "\\begin{tabular}{r|llllll}\n",
       " price & size\\_beverage & salad & ice\\_cream & toy & revenue\\\\\n",
       "\\hline\n",
       "\t 3.546357 & 0.6      & 1        & 0        & 1        & 34957.86\\\\\n",
       "\t 4.179821 & 0.7      & 0        & 0        & 1        & 50046.82\\\\\n",
       "\t 3.634045 & 0.6      & 0        & 0        & 0        & 41464.24\\\\\n",
       "\t 4.166024 & 0.7      & 1        & 1        & 0        & 43034.24\\\\\n",
       "\t 4.139435 & 0.7      & 1        & 0        & 0        & 34856.40\\\\\n",
       "\t 3.648140 & 0.6      & 0        & 0        & 0        & 48116.88\\\\\n",
       "\\end{tabular}\n"
      ],
      "text/markdown": [
       "\n",
       "price | size_beverage | salad | ice_cream | toy | revenue | \n",
       "|---|---|---|---|---|---|\n",
       "| 3.546357 | 0.6      | 1        | 0        | 1        | 34957.86 | \n",
       "| 4.179821 | 0.7      | 0        | 0        | 1        | 50046.82 | \n",
       "| 3.634045 | 0.6      | 0        | 0        | 0        | 41464.24 | \n",
       "| 4.166024 | 0.7      | 1        | 1        | 0        | 43034.24 | \n",
       "| 4.139435 | 0.7      | 1        | 0        | 0        | 34856.40 | \n",
       "| 3.648140 | 0.6      | 0        | 0        | 0        | 48116.88 | \n",
       "\n",
       "\n"
      ],
      "text/plain": [
       "  price    size_beverage salad ice_cream toy revenue \n",
       "1 3.546357 0.6           1     0         1   34957.86\n",
       "2 4.179821 0.7           0     0         1   50046.82\n",
       "3 3.634045 0.6           0     0         0   41464.24\n",
       "4 4.166024 0.7           1     1         0   43034.24\n",
       "5 4.139435 0.7           1     0         0   34856.40\n",
       "6 3.648140 0.6           0     0         0   48116.88"
      ]
     },
     "metadata": {},
     "output_type": "display_data"
    }
   ],
   "source": [
    "myData = read.csv(\"Burgers2000.csv\")\n",
    "head(myData)"
   ]
  },
  {
   "cell_type": "code",
   "execution_count": 2,
   "metadata": {
    "collapsed": false
   },
   "outputs": [
    {
     "data": {
      "text/html": [
       "FALSE"
      ],
      "text/latex": [
       "FALSE"
      ],
      "text/markdown": [
       "FALSE"
      ],
      "text/plain": [
       "[1] FALSE"
      ]
     },
     "metadata": {},
     "output_type": "display_data"
    }
   ],
   "source": [
    "# Validating the data set prior to fitting  is very importent!\n",
    "any(is.na(myData))"
   ]
  },
  {
   "cell_type": "markdown",
   "metadata": {},
   "source": [
    "Ok, Let's take a look at our data and <i>see</i> if we can spot any corelations right off the start. "
   ]
  },
  {
   "cell_type": "code",
   "execution_count": 3,
   "metadata": {
    "collapsed": false
   },
   "outputs": [
    {
     "data": {
      "image/png": "[encoded data removed]",
      "text/plain": [
       "plot without title"
      ]
     },
     "metadata": {},
     "output_type": "display_data"
    }
   ],
   "source": [
    "pairs(revenue~., data=myData)"
   ]
  },
  {
   "cell_type": "markdown",
   "metadata": {},
   "source": [
    "Considering that this is still data science, let's get the corelations in numbers."
   ]
  },
  {
   "cell_type": "code",
   "execution_count": 4,
   "metadata": {
    "collapsed": false
   },
   "outputs": [
    {
     "data": {
      "text/html": [
       "0.557470015059077"
      ],
      "text/latex": [
       "0.557470015059077"
      ],
      "text/markdown": [
       "0.557470015059077"
      ],
      "text/plain": [
       "[1] 0.55747"
      ]
     },
     "metadata": {},
     "output_type": "display_data"
    }
   ],
   "source": [
    "# Corelation of revenue and price.\n",
    "cor(myData$revenue, myData$price)"
   ]
  },
  {
   "cell_type": "code",
   "execution_count": 5,
   "metadata": {
    "collapsed": false
   },
   "outputs": [
    {
     "data": {
      "text/html": [
       "0.560618261290892"
      ],
      "text/latex": [
       "0.560618261290892"
      ],
      "text/markdown": [
       "0.560618261290892"
      ],
      "text/plain": [
       "[1] 0.5606183"
      ]
     },
     "metadata": {},
     "output_type": "display_data"
    }
   ],
   "source": [
    "# Corelation of revenue and size_beverage.\n",
    "cor(myData$revenue, myData$size_beverage)"
   ]
  },
  {
   "cell_type": "code",
   "execution_count": 6,
   "metadata": {
    "collapsed": false
   },
   "outputs": [
    {
     "data": {
      "text/html": [
       "-0.47554274027151"
      ],
      "text/latex": [
       "-0.47554274027151"
      ],
      "text/markdown": [
       "-0.47554274027151"
      ],
      "text/plain": [
       "[1] -0.4755427"
      ]
     },
     "metadata": {},
     "output_type": "display_data"
    }
   ],
   "source": [
    "# Corelation of revenue and salad.\n",
    "cor(myData$revenue, myData$salad)"
   ]
  },
  {
   "cell_type": "code",
   "execution_count": 7,
   "metadata": {
    "collapsed": false
   },
   "outputs": [
    {
     "data": {
      "text/html": [
       "0.199373916691655"
      ],
      "text/latex": [
       "0.199373916691655"
      ],
      "text/markdown": [
       "0.199373916691655"
      ],
      "text/plain": [
       "[1] 0.1993739"
      ]
     },
     "metadata": {},
     "output_type": "display_data"
    }
   ],
   "source": [
    "# Corelation of revenue and ice_cream.\n",
    "cor(myData$revenue, myData$ice_cream)"
   ]
  },
  {
   "cell_type": "code",
   "execution_count": 8,
   "metadata": {
    "collapsed": false
   },
   "outputs": [
    {
     "data": {
      "text/html": [
       "0.39397630503773"
      ],
      "text/latex": [
       "0.39397630503773"
      ],
      "text/markdown": [
       "0.39397630503773"
      ],
      "text/plain": [
       "[1] 0.3939763"
      ]
     },
     "metadata": {},
     "output_type": "display_data"
    }
   ],
   "source": [
    "# Corelation of revenue and toy.\n",
    "cor(myData$revenue, myData$toy)"
   ]
  },
  {
   "cell_type": "markdown",
   "metadata": {},
   "source": [
    "<p>We can easly see that there is positive linear corelation between revenue and price/size_beverage. Also a negative linear corelation between revenue and salad. Although, note that the corelations aren't that strong.</p>\n",
    "\n",
    "This pretty much makes sense, as kids like more quantity in thier bevarage and toys (thus making the meal cost more), alongside having a dislike to vegitables."
   ]
  },
  {
   "cell_type": "markdown",
   "metadata": {},
   "source": [
    "### Splitting the Data (train & test)<br>\n",
    "\n",
    "Ok, so up until now we really just kind of did a quick review of at the data. It's time to dig a little deeper in order to get much more accurate and reliable conclusions. <br>\n",
    "\n",
    "First off, we will split our data into a training & testing sets (70/30) in order to avoid over fitting."
   ]
  },
  {
   "cell_type": "code",
   "execution_count": 9,
   "metadata": {
    "collapsed": false
   },
   "outputs": [
    {
     "data": {
      "text/html": [
       "<table>\n",
       "<thead><tr><th scope=col>price</th><th scope=col>size_beverage</th><th scope=col>salad</th><th scope=col>ice_cream</th><th scope=col>toy</th><th scope=col>revenue</th><th scope=col>sampling</th></tr></thead>\n",
       "<tbody>\n",
       "\t<tr><td>3.546357 </td><td>0.6      </td><td>1        </td><td>0        </td><td>1        </td><td>34957.86 </td><td>0.1137034</td></tr>\n",
       "\t<tr><td>4.179821 </td><td>0.7      </td><td>0        </td><td>0        </td><td>1        </td><td>50046.82 </td><td>0.6222994</td></tr>\n",
       "\t<tr><td>3.634045 </td><td>0.6      </td><td>0        </td><td>0        </td><td>0        </td><td>41464.24 </td><td>0.6092747</td></tr>\n",
       "\t<tr><td>4.166024 </td><td>0.7      </td><td>1        </td><td>1        </td><td>0        </td><td>43034.24 </td><td>0.6233794</td></tr>\n",
       "\t<tr><td>4.139435 </td><td>0.7      </td><td>1        </td><td>0        </td><td>0        </td><td>34856.40 </td><td>0.8609154</td></tr>\n",
       "\t<tr><td>3.648140 </td><td>0.6      </td><td>0        </td><td>0        </td><td>0        </td><td>48116.88 </td><td>0.6403106</td></tr>\n",
       "</tbody>\n",
       "</table>\n"
      ],
      "text/latex": [
       "\\begin{tabular}{r|lllllll}\n",
       " price & size\\_beverage & salad & ice\\_cream & toy & revenue & sampling\\\\\n",
       "\\hline\n",
       "\t 3.546357  & 0.6       & 1         & 0         & 1         & 34957.86  & 0.1137034\\\\\n",
       "\t 4.179821  & 0.7       & 0         & 0         & 1         & 50046.82  & 0.6222994\\\\\n",
       "\t 3.634045  & 0.6       & 0         & 0         & 0         & 41464.24  & 0.6092747\\\\\n",
       "\t 4.166024  & 0.7       & 1         & 1         & 0         & 43034.24  & 0.6233794\\\\\n",
       "\t 4.139435  & 0.7       & 1         & 0         & 0         & 34856.40  & 0.8609154\\\\\n",
       "\t 3.648140  & 0.6       & 0         & 0         & 0         & 48116.88  & 0.6403106\\\\\n",
       "\\end{tabular}\n"
      ],
      "text/markdown": [
       "\n",
       "price | size_beverage | salad | ice_cream | toy | revenue | sampling | \n",
       "|---|---|---|---|---|---|\n",
       "| 3.546357  | 0.6       | 1         | 0         | 1         | 34957.86  | 0.1137034 | \n",
       "| 4.179821  | 0.7       | 0         | 0         | 1         | 50046.82  | 0.6222994 | \n",
       "| 3.634045  | 0.6       | 0         | 0         | 0         | 41464.24  | 0.6092747 | \n",
       "| 4.166024  | 0.7       | 1         | 1         | 0         | 43034.24  | 0.6233794 | \n",
       "| 4.139435  | 0.7       | 1         | 0         | 0         | 34856.40  | 0.8609154 | \n",
       "| 3.648140  | 0.6       | 0         | 0         | 0         | 48116.88  | 0.6403106 | \n",
       "\n",
       "\n"
      ],
      "text/plain": [
       "  price    size_beverage salad ice_cream toy revenue  sampling \n",
       "1 3.546357 0.6           1     0         1   34957.86 0.1137034\n",
       "2 4.179821 0.7           0     0         1   50046.82 0.6222994\n",
       "3 3.634045 0.6           0     0         0   41464.24 0.6092747\n",
       "4 4.166024 0.7           1     1         0   43034.24 0.6233794\n",
       "5 4.139435 0.7           1     0         0   34856.40 0.8609154\n",
       "6 3.648140 0.6           0     0         0   48116.88 0.6403106"
      ]
     },
     "metadata": {},
     "output_type": "display_data"
    }
   ],
   "source": [
    "# In order to get persistant results amongst peers.\n",
    "set.seed(1234)\n",
    "# Assigning random partition (70/30) values to our data set\n",
    "myData$sampling = runif(nrow(myData)) \n",
    "\n",
    "head(myData)"
   ]
  },
  {
   "cell_type": "code",
   "execution_count": 10,
   "metadata": {
    "collapsed": false
   },
   "outputs": [],
   "source": [
    "# Splitting the data set into train and test sets (then removing the sample columns)\n",
    "testSet = subset(myData, myData$sampling <= 0.3)\n",
    "testSet = testSet[, !names(testSet) %in% c(\"sampling\")]\n",
    "\n",
    "trainSet = subset(myData, myData$sampling > 0.3)\n",
    "trainSet = trainSet[, !names(trainSet) %in% c(\"sampling\")]"
   ]
  },
  {
   "cell_type": "markdown",
   "metadata": {},
   "source": [
    "### Simple Linear Regression (SLR)<br>\n",
    "\n",
    "Alright, everything from validating to splitting our data is set! We're ready to fit the sets into the first model we're looking at (SLR). <br>\n",
    "\n",
    "SLR means that we want to explain our dependent variable via a single independent variable. In our case this means we want to see how one of our features, now price, predicts revenue. <br>\n",
    "\n",
    "This is done through the simple linear equation we all learned in high school, <b>Y=m&#8727;X+b</b>. Where <b>Y</b> is revenue, <b>X</b> is price, <b>m</b> is the <i>average</i> increase we get in every increament of x and <b>b</b> is the intercept with the y axis.   "
   ]
  },
  {
   "cell_type": "code",
   "execution_count": 11,
   "metadata": {
    "collapsed": false
   },
   "outputs": [
    {
     "data": {
      "text/html": [
       "<dl class=dl-horizontal>\n",
       "\t<dt>(Intercept)</dt>\n",
       "\t\t<dd>25331.415596012</dd>\n",
       "\t<dt>price</dt>\n",
       "\t\t<dd>3927.57469787566</dd>\n",
       "</dl>\n"
      ],
      "text/latex": [
       "\\begin{description*}\n",
       "\\item[(Intercept)] 25331.415596012\n",
       "\\item[price] 3927.57469787566\n",
       "\\end{description*}\n"
      ],
      "text/markdown": [
       "(Intercept)\n",
       ":   25331.415596012price\n",
       ":   3927.57469787566\n",
       "\n"
      ],
      "text/plain": [
       "(Intercept)       price \n",
       "  25331.416    3927.575 "
      ]
     },
     "metadata": {},
     "output_type": "display_data"
    },
    {
     "data": {
      "text/plain": [
       "\n",
       "Call:\n",
       "lm(formula = revenue ~ price, data = trainSet)\n",
       "\n",
       "Residuals:\n",
       "     Min       1Q   Median       3Q      Max \n",
       "-19119.9  -4604.5   -177.3   4335.9  21377.3 \n",
       "\n",
       "Coefficients:\n",
       "            Estimate Std. Error t value Pr(>|t|)    \n",
       "(Intercept)  25331.4      508.5   49.82   <2e-16 ***\n",
       "price         3927.6      154.9   25.35   <2e-16 ***\n",
       "---\n",
       "Signif. codes:  0 '***' 0.001 '**' 0.01 '*' 0.05 '.' 0.1 ' ' 1\n",
       "\n",
       "Residual standard error: 6495 on 1393 degrees of freedom\n",
       "Multiple R-squared:  0.3157,\tAdjusted R-squared:  0.3152 \n",
       "F-statistic: 642.6 on 1 and 1393 DF,  p-value: < 2.2e-16\n"
      ]
     },
     "metadata": {},
     "output_type": "display_data"
    }
   ],
   "source": [
    "# Fitting our data into the SLR model.\n",
    "fit1 = lm(revenue~price, data=trainSet)\n",
    "# Retrieving the coefficiency of our model.\n",
    "coef(fit1)\n",
    "# Description of our model.\n",
    "summary(fit1)"
   ]
  },
  {
   "cell_type": "markdown",
   "metadata": {},
   "source": [
    "Let's take a look at what we got here.\n",
    "\n",
    "By the values showen above we get that our equation is as follows, <i><b>revenue</b> = 3927.57469787566&#8727;<b>price</b> + 25331.415596012.</i>\n",
    "But what does this mean? Well, our itercept is positive and means that each value of X will get an adjusment of + 25331.415596012 <b>(note: if X cannot be zero like in our case, the intercept is meaningless)</b>. Also, our <i>slope</i>(m) is 3927.57469787566. This means that for every increase in price we get an increase of 3927.57469787566 to the revenue. "
   ]
  },
  {
   "cell_type": "code",
   "execution_count": 12,
   "metadata": {
    "collapsed": false
   },
   "outputs": [
    {
     "data": {
      "image/png": "[encoded data removed]",
      "text/plain": [
       "plot without title"
      ]
     },
     "metadata": {},
     "output_type": "display_data"
    }
   ],
   "source": [
    "# scatterplot between price (x axis) vs. revenue (y axis).\n",
    "plot(trainSet$price,trainSet$revenue,\n",
    "     xlab=\"Price\",\n",
    "     ylab=\"Revenue\",\n",
    "     bg=\"lightblue\",\n",
    "     col=\"black\",cex=1.1,pch=21,frame=FALSE)\n",
    "\n",
    "# Add Line of Best Fit to the scatterplot\n",
    "abline(lm(revenue~price,data=trainSet),lwd=2, col=\"red\")"
   ]
  },
  {
   "cell_type": "markdown",
   "metadata": {},
   "source": [
    "#### Final Conclusions<br>\n",
    "\n",
    "Ok, so we know what our model looks like based off the training set, but is it any good? well, not really.<br>\n",
    "\n",
    "The output of our model states that while the significance of price is high (<i>***</i>), our R-squared value is only 0.3157 and our Residiual Standard Error (RSE) is 6495. This means that our model is only able to explain 31.57% of the increase in revenue with an average-predicted-distance error of 6495 from the original (real) points. And this is was on the training set alone. <br>\n",
    "\n",
    "Whenever we get a not-great model for our data in the training stage, there's no point in trying it on the test set seeing that it will provide results of the same (if not worse) value.<br>\n",
    "\n",
    "Luckily, we have plenty more features to help of improve our model! So now we're going to utilize Multiple Linear Regression (MLR). "
   ]
  },
  {
   "cell_type": "markdown",
   "metadata": {},
   "source": [
    "### Multiple Linear Regression (MLR)<br>\n",
    "\n",
    "MLR is very similar to SLR, except now we can use more than one feature in order to predict our dependant variable (revenue).<br>\n",
    "\n",
    "So now, instead of having Y=mX+b, we get <i>Y = b + m1&#8727;feature1 + m2&#8727;feature2...</i> and so on.<br>\n",
    "\n",
    "Let's try it out. We saw earlier that the feature size_beverage was also rather highly corelated to revenue, so we'll add that into our model.<br>"
   ]
  },
  {
   "cell_type": "code",
   "execution_count": 13,
   "metadata": {
    "collapsed": false
   },
   "outputs": [
    {
     "data": {
      "text/html": [
       "<dl class=dl-horizontal>\n",
       "\t<dt>(Intercept)</dt>\n",
       "\t\t<dd>25209.0055268235</dd>\n",
       "\t<dt>price</dt>\n",
       "\t\t<dd>-554.662872362167</dd>\n",
       "\t<dt>size_beverage</dt>\n",
       "\t\t<dd>27128.3641525217</dd>\n",
       "</dl>\n"
      ],
      "text/latex": [
       "\\begin{description*}\n",
       "\\item[(Intercept)] 25209.0055268235\n",
       "\\item[price] -554.662872362167\n",
       "\\item[size\\textbackslash{}\\_beverage] 27128.3641525217\n",
       "\\end{description*}\n"
      ],
      "text/markdown": [
       "(Intercept)\n",
       ":   25209.0055268235price\n",
       ":   -554.662872362167size_beverage\n",
       ":   27128.3641525217\n",
       "\n"
      ],
      "text/plain": [
       "  (Intercept)         price size_beverage \n",
       "   25209.0055     -554.6629    27128.3642 "
      ]
     },
     "metadata": {},
     "output_type": "display_data"
    },
    {
     "data": {
      "text/plain": [
       "\n",
       "Call:\n",
       "lm(formula = revenue ~ price + size_beverage, data = trainSet)\n",
       "\n",
       "Residuals:\n",
       "     Min       1Q   Median       3Q      Max \n",
       "-18879.6  -4621.3   -119.1   4526.7  20533.2 \n",
       "\n",
       "Coefficients:\n",
       "              Estimate Std. Error t value Pr(>|t|)    \n",
       "(Intercept)    25209.0      509.7  49.456   <2e-16 ***\n",
       "price           -554.7     1757.7  -0.316   0.7524    \n",
       "size_beverage  27128.4    10597.3   2.560   0.0106 *  \n",
       "---\n",
       "Signif. codes:  0 '***' 0.001 '**' 0.01 '*' 0.05 '.' 0.1 ' ' 1\n",
       "\n",
       "Residual standard error: 6482 on 1392 degrees of freedom\n",
       "Multiple R-squared:  0.3189,\tAdjusted R-squared:  0.3179 \n",
       "F-statistic: 325.9 on 2 and 1392 DF,  p-value: < 2.2e-16\n"
      ]
     },
     "metadata": {},
     "output_type": "display_data"
    }
   ],
   "source": [
    "# Fitting our data into the SLR model.\n",
    "fit1 = lm(revenue~price+size_beverage, data=trainSet)\n",
    "# Retrieving the coefficiency of our model.\n",
    "coef(fit1)\n",
    "# Description of our model.\n",
    "summary(fit1)"
   ]
  },
  {
   "cell_type": "code",
   "execution_count": 14,
   "metadata": {
    "collapsed": false
   },
   "outputs": [
    {
     "data": {
      "image/png": "[encoded data removed]",
      "text/plain": [
       "plot without title"
      ]
     },
     "metadata": {},
     "output_type": "display_data"
    }
   ],
   "source": [
    "# ploting the model.\n",
    "plot(trainSet$price,trainSet$revenue,\n",
    "     xlab=\"Price\",\n",
    "     ylab=\"Revenue\",\n",
    "     bg=\"lightblue\",\n",
    "     col=\"black\",cex=1.1,pch=21,frame=FALSE)\n",
    "\n",
    "# Add Line of Best Fit to the scatterplot.\n",
    "abline(lm(revenue~price,data=trainSet),lwd=2, col=\"red\")"
   ]
  },
  {
   "cell_type": "markdown",
   "metadata": {},
   "source": [
    "Looking at our new MLR model, we get a somewaht weird result. If you noticed, unlike in our SLR model, suddenly the price feature became insignificant with a negative slope. Alas, the models result is pretty much the same. R-squared $ RSE seem to be almost of same value as before. What does this mean?<br>\n",
    "\n",
    "##### Multicollinearity<br>\n",
    "\n",
    "If you scroll back up you'll see in our piarplot(scatterplot matrix) that the features size_beverage and price are very strongly corelated. In fact they are 0.996037417630387 corelated ( cor(myData.price, myData.size_beverage) ).<br>\n",
    "\n",
    "That means they're so close together that the model has a hard time determining which one of them is giving a greater impact on revenue. More over, this shows you that \"too many cooks can ruin a dish\". This is why you always want to look at all aspects of your data.\n",
    "\n",
    "You can read more on the subject at <a href=\"http://blog.minitab.com/blog/understanding-statistics/handling-multicollinearity-in-regression-analysis\">Minitab: Handling Multicollinearity in Regression Analysis</a><br>\n",
    "\n",
    "Let's try out two new models of MLR containing the rest of our features, but in one we'll exclude the price feature and in the other we'll exclude the size_beverage feature."
   ]
  },
  {
   "cell_type": "code",
   "execution_count": 15,
   "metadata": {
    "collapsed": false
   },
   "outputs": [
    {
     "data": {
      "text/html": [
       "<dl class=dl-horizontal>\n",
       "\t<dt>(Intercept)</dt>\n",
       "\t\t<dd>25547.5352158254</dd>\n",
       "\t<dt>price</dt>\n",
       "\t\t<dd>4136.08742298701</dd>\n",
       "\t<dt>salad</dt>\n",
       "\t\t<dd>-7645.64474468591</dd>\n",
       "\t<dt>ice_cream</dt>\n",
       "\t\t<dd>3923.91780225002</dd>\n",
       "\t<dt>toy</dt>\n",
       "\t\t<dd>6179.08445776326</dd>\n",
       "</dl>\n"
      ],
      "text/latex": [
       "\\begin{description*}\n",
       "\\item[(Intercept)] 25547.5352158254\n",
       "\\item[price] 4136.08742298701\n",
       "\\item[salad] -7645.64474468591\n",
       "\\item[ice\\textbackslash{}\\_cream] 3923.91780225002\n",
       "\\item[toy] 6179.08445776326\n",
       "\\end{description*}\n"
      ],
      "text/markdown": [
       "(Intercept)\n",
       ":   25547.5352158254price\n",
       ":   4136.08742298701salad\n",
       ":   -7645.64474468591ice_cream\n",
       ":   3923.91780225002toy\n",
       ":   6179.08445776326\n",
       "\n"
      ],
      "text/plain": [
       "(Intercept)       price       salad   ice_cream         toy \n",
       "  25547.535    4136.087   -7645.645    3923.918    6179.084 "
      ]
     },
     "metadata": {},
     "output_type": "display_data"
    },
    {
     "data": {
      "text/plain": [
       "\n",
       "Call:\n",
       "lm(formula = revenue ~ price + salad + ice_cream + toy, data = trainSet)\n",
       "\n",
       "Residuals:\n",
       "   Min     1Q Median     3Q    Max \n",
       "-12958  -2436    122   2614  12569 \n",
       "\n",
       "Coefficients:\n",
       "            Estimate Std. Error t value Pr(>|t|)    \n",
       "(Intercept) 25547.54     335.03   76.25   <2e-16 ***\n",
       "price        4136.09      93.09   44.43   <2e-16 ***\n",
       "salad       -7645.64     209.24  -36.54   <2e-16 ***\n",
       "ice_cream    3923.92     276.54   14.19   <2e-16 ***\n",
       "toy          6179.08     214.54   28.80   <2e-16 ***\n",
       "---\n",
       "Signif. codes:  0 '***' 0.001 '**' 0.01 '*' 0.05 '.' 0.1 ' ' 1\n",
       "\n",
       "Residual standard error: 3897 on 1390 degrees of freedom\n",
       "Multiple R-squared:  0.7541,\tAdjusted R-squared:  0.7534 \n",
       "F-statistic:  1066 on 4 and 1390 DF,  p-value: < 2.2e-16\n"
      ]
     },
     "metadata": {},
     "output_type": "display_data"
    }
   ],
   "source": [
    "fit2 = lm(revenue~price+salad+ice_cream+toy, data=trainSet)\n",
    "# Retrieving the coefficiency of our model.\n",
    "coef(fit2)\n",
    "# Description of our model.\n",
    "summary(fit2)"
   ]
  },
  {
   "cell_type": "markdown",
   "metadata": {},
   "source": [
    "Ok, so far we get much better results! R-squared is 0.7541, meaning our model was able to explain correctly 75.41% of the depandent variable revenue, and a lower RSE of 3897.<br>\n",
    "\n",
    "So looking at our equation now, it is as follows: <i><b>revenue</b> = 25547.53521 + 4136.08742&#8727;<b>price</b> - 7645.64474&#8727;<b>salad</b> + 3923.9178&#8727;<b>ice_cream</b> + 6179.08445&#8727;<b>toy</b></i> <br>\n",
    "Meaning that where a boolian feature is present in a data point, it's estimator will add to revenue, and the opposite will occur when it's not present in the data point.<br>\n",
    "\n",
    "for example: A meal with a price of 4.5 that comes with a toy and without ice_cream and salad would yield <i><b>revenue</b> = 25547.53521 + 4136.08742&#8727;<b>4.5</b> + 6179.08445&#8727;<b>1</b> - 7645.64474&#8727;<b>0</b> + 3923.9178&#8727;<b>0</b> = 50339.01305</i><br>\n",
    "\n",
    "\n",
    "Let's see how the second model holds up."
   ]
  },
  {
   "cell_type": "code",
   "execution_count": 16,
   "metadata": {
    "collapsed": false
   },
   "outputs": [
    {
     "data": {
      "text/html": [
       "<dl class=dl-horizontal>\n",
       "\t<dt>(Intercept)</dt>\n",
       "\t\t<dd>25429.1057393573</dd>\n",
       "\t<dt>size_beverage</dt>\n",
       "\t\t<dd>25039.4638545043</dd>\n",
       "\t<dt>salad</dt>\n",
       "\t\t<dd>-7641.64488205372</dd>\n",
       "\t<dt>ice_cream</dt>\n",
       "\t\t<dd>3902.25374525269</dd>\n",
       "\t<dt>toy</dt>\n",
       "\t\t<dd>6189.40755322969</dd>\n",
       "</dl>\n"
      ],
      "text/latex": [
       "\\begin{description*}\n",
       "\\item[(Intercept)] 25429.1057393573\n",
       "\\item[size\\textbackslash{}\\_beverage] 25039.4638545043\n",
       "\\item[salad] -7641.64488205372\n",
       "\\item[ice\\textbackslash{}\\_cream] 3902.25374525269\n",
       "\\item[toy] 6189.40755322969\n",
       "\\end{description*}\n"
      ],
      "text/markdown": [
       "(Intercept)\n",
       ":   25429.1057393573size_beverage\n",
       ":   25039.4638545043salad\n",
       ":   -7641.64488205372ice_cream\n",
       ":   3902.25374525269toy\n",
       ":   6189.40755322969\n",
       "\n"
      ],
      "text/plain": [
       "  (Intercept) size_beverage         salad     ice_cream           toy \n",
       "    25429.106     25039.464     -7641.645      3902.254      6189.408 "
      ]
     },
     "metadata": {},
     "output_type": "display_data"
    },
    {
     "data": {
      "text/plain": [
       "\n",
       "Call:\n",
       "lm(formula = revenue ~ size_beverage + salad + ice_cream + toy, \n",
       "    data = trainSet)\n",
       "\n",
       "Residuals:\n",
       "     Min       1Q   Median       3Q      Max \n",
       "-12852.6  -2483.6    180.4   2651.2  13048.4 \n",
       "\n",
       "Coefficients:\n",
       "              Estimate Std. Error t value Pr(>|t|)    \n",
       "(Intercept)    25429.1      334.3   76.08   <2e-16 ***\n",
       "size_beverage  25039.5      557.8   44.89   <2e-16 ***\n",
       "salad          -7641.6      208.0  -36.74   <2e-16 ***\n",
       "ice_cream       3902.3      274.9   14.20   <2e-16 ***\n",
       "toy             6189.4      213.3   29.02   <2e-16 ***\n",
       "---\n",
       "Signif. codes:  0 '***' 0.001 '**' 0.01 '*' 0.05 '.' 0.1 ' ' 1\n",
       "\n",
       "Residual standard error: 3874 on 1390 degrees of freedom\n",
       "Multiple R-squared:  0.7571,\tAdjusted R-squared:  0.7564 \n",
       "F-statistic:  1083 on 4 and 1390 DF,  p-value: < 2.2e-16\n"
      ]
     },
     "metadata": {},
     "output_type": "display_data"
    }
   ],
   "source": [
    "fit3 = lm(revenue~size_beverage+salad+ice_cream+toy, data=trainSet)\n",
    "# Retrieving the coefficiency of our model.\n",
    "coef(fit3)\n",
    "# Description of our model.\n",
    "summary(fit3)"
   ]
  },
  {
   "cell_type": "markdown",
   "metadata": {},
   "source": [
    "We seem to have slightly better results in this model then in our previous model.<br>"
   ]
  },
  {
   "cell_type": "code",
   "execution_count": 17,
   "metadata": {
    "collapsed": false
   },
   "outputs": [
    {
     "name": "stdout",
     "output_type": "stream",
     "text": [
      "package 'caret' successfully unpacked and MD5 sums checked\n",
      "\n",
      "The downloaded binary packages are in\n",
      "\tC:\\Users\\net70\\AppData\\Local\\Temp\\RtmpCiogl7\\downloaded_packages\n"
     ]
    },
    {
     "name": "stderr",
     "output_type": "stream",
     "text": [
      "Warning message:\n",
      "\"package 'caret' was built under R version 3.3.3\"Loading required package: lattice\n",
      "Loading required package: ggplot2\n"
     ]
    },
    {
     "data": {
      "text/html": [
       "<table>\n",
       "<thead><tr><th></th><th scope=col>Overall</th></tr></thead>\n",
       "<tbody>\n",
       "\t<tr><th scope=row>price</th><td>44.43070</td></tr>\n",
       "\t<tr><th scope=row>salad</th><td>36.54092</td></tr>\n",
       "\t<tr><th scope=row>ice_cream</th><td>14.18942</td></tr>\n",
       "\t<tr><th scope=row>toy</th><td>28.80099</td></tr>\n",
       "</tbody>\n",
       "</table>\n"
      ],
      "text/latex": [
       "\\begin{tabular}{r|l}\n",
       "  & Overall\\\\\n",
       "\\hline\n",
       "\tprice & 44.43070\\\\\n",
       "\tsalad & 36.54092\\\\\n",
       "\tice\\_cream & 14.18942\\\\\n",
       "\ttoy & 28.80099\\\\\n",
       "\\end{tabular}\n"
      ],
      "text/markdown": [
       "\n",
       "| <!--/--> | Overall | \n",
       "|---|---|---|---|\n",
       "| price | 44.43070 | \n",
       "| salad | 36.54092 | \n",
       "| ice_cream | 14.18942 | \n",
       "| toy | 28.80099 | \n",
       "\n",
       "\n"
      ],
      "text/plain": [
       "          Overall \n",
       "price     44.43070\n",
       "salad     36.54092\n",
       "ice_cream 14.18942\n",
       "toy       28.80099"
      ]
     },
     "metadata": {},
     "output_type": "display_data"
    },
    {
     "data": {
      "text/html": [
       "<table>\n",
       "<thead><tr><th></th><th scope=col>Overall</th></tr></thead>\n",
       "<tbody>\n",
       "\t<tr><th scope=row>size_beverage</th><td>44.88625</td></tr>\n",
       "\t<tr><th scope=row>salad</th><td>36.74300</td></tr>\n",
       "\t<tr><th scope=row>ice_cream</th><td>14.19667</td></tr>\n",
       "\t<tr><th scope=row>toy</th><td>29.02282</td></tr>\n",
       "</tbody>\n",
       "</table>\n"
      ],
      "text/latex": [
       "\\begin{tabular}{r|l}\n",
       "  & Overall\\\\\n",
       "\\hline\n",
       "\tsize\\_beverage & 44.88625\\\\\n",
       "\tsalad & 36.74300\\\\\n",
       "\tice\\_cream & 14.19667\\\\\n",
       "\ttoy & 29.02282\\\\\n",
       "\\end{tabular}\n"
      ],
      "text/markdown": [
       "\n",
       "| <!--/--> | Overall | \n",
       "|---|---|---|---|\n",
       "| size_beverage | 44.88625 | \n",
       "| salad | 36.74300 | \n",
       "| ice_cream | 14.19667 | \n",
       "| toy | 29.02282 | \n",
       "\n",
       "\n"
      ],
      "text/plain": [
       "              Overall \n",
       "size_beverage 44.88625\n",
       "salad         36.74300\n",
       "ice_cream     14.19667\n",
       "toy           29.02282"
      ]
     },
     "metadata": {},
     "output_type": "display_data"
    }
   ],
   "source": [
    "install.packages('caret', repos='http://cran.us.r-project.org')\n",
    "library(caret)\n",
    "varImp(fit2, scale = FALSE)\n",
    "varImp(fit3, scale = FALSE)"
   ]
  },
  {
   "cell_type": "markdown",
   "metadata": {},
   "source": [
    "We can se that our most important independant variables are price, size_beverage and salad. Not surprising kids!<br><br>\n",
    "\n",
    "We're almost done, just need to dig a little bit deeper. We'll do said digging via the Root Mean Squared Error (RMSE).<br>\n",
    "\n",
    "#### Root Mean Squared Error (RMSE)<br>\n",
    "\n",
    "The square root of the mean/average of the square of all of the error. In simplicity, it indicates on avarage how far each real data point is from the prediction line (how far off we are).<br>\n",
    "We want the model that has the smallest RMSE and highest R-squared. So we'll find out via the testSet. \n"
   ]
  },
  {
   "cell_type": "code",
   "execution_count": 18,
   "metadata": {
    "collapsed": false
   },
   "outputs": [
    {
     "data": {
      "text/html": [
       "<table>\n",
       "<thead><tr><th></th><th scope=col>price</th><th scope=col>size_beverage</th><th scope=col>salad</th><th scope=col>ice_cream</th><th scope=col>toy</th><th scope=col>revenue</th><th scope=col>fit1_pred</th><th scope=col>fit2_pred</th><th scope=col>fit3_pred</th></tr></thead>\n",
       "<tbody>\n",
       "\t<tr><th scope=row>1</th><td>3.546357</td><td>0.6     </td><td>1       </td><td>0       </td><td>1       </td><td>34957.86</td><td>39518.99</td><td>38749.02</td><td>39000.55</td></tr>\n",
       "\t<tr><th scope=row>7</th><td>2.409824</td><td>0.4     </td><td>1       </td><td>1       </td><td>0       </td><td>31747.60</td><td>34723.71</td><td>31793.05</td><td>31705.50</td></tr>\n",
       "\t<tr><th scope=row>8</th><td>2.988093</td><td>0.5     </td><td>1       </td><td>0       </td><td>0       </td><td>36463.00</td><td>37115.80</td><td>30260.90</td><td>30307.19</td></tr>\n",
       "\t<tr><th scope=row>13</th><td>3.164706</td><td>0.5     </td><td>1       </td><td>0       </td><td>0       </td><td>33908.54</td><td>37017.84</td><td>30991.39</td><td>30307.19</td></tr>\n",
       "\t<tr><th scope=row>15</th><td>4.688194</td><td>0.8     </td><td>1       </td><td>0       </td><td>0       </td><td>33414.33</td><td>44311.33</td><td>37292.67</td><td>37819.03</td></tr>\n",
       "\t<tr><th scope=row>17</th><td>2.276852</td><td>0.4     </td><td>1       </td><td>0       </td><td>1       </td><td>33978.96</td><td>34797.47</td><td>33498.23</td><td>33992.65</td></tr>\n",
       "</tbody>\n",
       "</table>\n"
      ],
      "text/latex": [
       "\\begin{tabular}{r|lllllllll}\n",
       "  & price & size\\_beverage & salad & ice\\_cream & toy & revenue & fit1\\_pred & fit2\\_pred & fit3\\_pred\\\\\n",
       "\\hline\n",
       "\t1 & 3.546357 & 0.6      & 1        & 0        & 1        & 34957.86 & 39518.99 & 38749.02 & 39000.55\\\\\n",
       "\t7 & 2.409824 & 0.4      & 1        & 1        & 0        & 31747.60 & 34723.71 & 31793.05 & 31705.50\\\\\n",
       "\t8 & 2.988093 & 0.5      & 1        & 0        & 0        & 36463.00 & 37115.80 & 30260.90 & 30307.19\\\\\n",
       "\t13 & 3.164706 & 0.5      & 1        & 0        & 0        & 33908.54 & 37017.84 & 30991.39 & 30307.19\\\\\n",
       "\t15 & 4.688194 & 0.8      & 1        & 0        & 0        & 33414.33 & 44311.33 & 37292.67 & 37819.03\\\\\n",
       "\t17 & 2.276852 & 0.4      & 1        & 0        & 1        & 33978.96 & 34797.47 & 33498.23 & 33992.65\\\\\n",
       "\\end{tabular}\n"
      ],
      "text/markdown": [
       "\n",
       "| <!--/--> | price | size_beverage | salad | ice_cream | toy | revenue | fit1_pred | fit2_pred | fit3_pred | \n",
       "|---|---|---|---|---|---|\n",
       "| 1 | 3.546357 | 0.6      | 1        | 0        | 1        | 34957.86 | 39518.99 | 38749.02 | 39000.55 | \n",
       "| 7 | 2.409824 | 0.4      | 1        | 1        | 0        | 31747.60 | 34723.71 | 31793.05 | 31705.50 | \n",
       "| 8 | 2.988093 | 0.5      | 1        | 0        | 0        | 36463.00 | 37115.80 | 30260.90 | 30307.19 | \n",
       "| 13 | 3.164706 | 0.5      | 1        | 0        | 0        | 33908.54 | 37017.84 | 30991.39 | 30307.19 | \n",
       "| 15 | 4.688194 | 0.8      | 1        | 0        | 0        | 33414.33 | 44311.33 | 37292.67 | 37819.03 | \n",
       "| 17 | 2.276852 | 0.4      | 1        | 0        | 1        | 33978.96 | 34797.47 | 33498.23 | 33992.65 | \n",
       "\n",
       "\n"
      ],
      "text/plain": [
       "   price    size_beverage salad ice_cream toy revenue  fit1_pred fit2_pred\n",
       "1  3.546357 0.6           1     0         1   34957.86 39518.99  38749.02 \n",
       "7  2.409824 0.4           1     1         0   31747.60 34723.71  31793.05 \n",
       "8  2.988093 0.5           1     0         0   36463.00 37115.80  30260.90 \n",
       "13 3.164706 0.5           1     0         0   33908.54 37017.84  30991.39 \n",
       "15 4.688194 0.8           1     0         0   33414.33 44311.33  37292.67 \n",
       "17 2.276852 0.4           1     0         1   33978.96 34797.47  33498.23 \n",
       "   fit3_pred\n",
       "1  39000.55 \n",
       "7  31705.50 \n",
       "8  30307.19 \n",
       "13 30307.19 \n",
       "15 37819.03 \n",
       "17 33992.65 "
      ]
     },
     "metadata": {},
     "output_type": "display_data"
    }
   ],
   "source": [
    "# Adding the predictions of each model to the testSet.\n",
    "testSet$fit1_pred = predict(fit1, newdata=testSet)\n",
    "testSet$fit2_pred = predict(fit2, newdata=testSet)\n",
    "testSet$fit3_pred = predict(fit3, newdata=testSet)\n",
    "head(testSet)"
   ]
  },
  {
   "cell_type": "code",
   "execution_count": 19,
   "metadata": {
    "collapsed": false
   },
   "outputs": [
    {
     "data": {
      "text/html": [
       "6243.3843904648"
      ],
      "text/latex": [
       "6243.3843904648"
      ],
      "text/markdown": [
       "6243.3843904648"
      ],
      "text/plain": [
       "[1] 6243.384"
      ]
     },
     "metadata": {},
     "output_type": "display_data"
    },
    {
     "data": {
      "text/html": [
       "3945.72688383125"
      ],
      "text/latex": [
       "3945.72688383125"
      ],
      "text/markdown": [
       "3945.72688383125"
      ],
      "text/plain": [
       "[1] 3945.727"
      ]
     },
     "metadata": {},
     "output_type": "display_data"
    },
    {
     "data": {
      "text/html": [
       "3930.25296211306"
      ],
      "text/latex": [
       "3930.25296211306"
      ],
      "text/markdown": [
       "3930.25296211306"
      ],
      "text/plain": [
       "[1] 3930.253"
      ]
     },
     "metadata": {},
     "output_type": "display_data"
    }
   ],
   "source": [
    "# Calculating the RMSE of eaech model.\n",
    "RMSE1 = sqrt(mean((testSet$revenue-testSet$fit1_pred)**2))\n",
    "RMSE2 = sqrt(mean((testSet$revenue-testSet$fit2_pred)**2))\n",
    "RMSE3 = sqrt(mean((testSet$revenue-testSet$fit3_pred)**2))\n",
    "\n",
    "RMSE1\n",
    "RMSE2\n",
    "RMSE3"
   ]
  },
  {
   "cell_type": "markdown",
   "metadata": {},
   "source": [
    "Seems we have a winner!<br>\n",
    "\n",
    "with an RMSE = 3930 and a R-squared = 0.7571, fit3 takes the cake despite being only slightly better than fit2."
   ]
  }
 ],
 "metadata": {
  "kernelspec": {
   "display_name": "R",
   "language": "R",
   "name": "ir"
  },
  "language_info": {
   "codemirror_mode": "r",
   "file_extension": ".r",
   "mimetype": "text/x-r-source",
   "name": "R",
   "pygments_lexer": "r",
   "version": "3.3.2"
  }
 },
 "nbformat": 4,
 "nbformat_minor": 2
}
